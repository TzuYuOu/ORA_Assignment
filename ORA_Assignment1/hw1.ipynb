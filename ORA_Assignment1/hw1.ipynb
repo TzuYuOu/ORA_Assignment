{
 "cells": [
  {
   "cell_type": "code",
   "execution_count": null,
   "metadata": {},
   "outputs": [],
   "source": [
    "from pulp import *"
   ]
  },
  {
   "cell_type": "code",
   "execution_count": 13,
   "metadata": {},
   "outputs": [
    {
     "name": "stdout",
     "output_type": "stream",
     "text": [
      "Status: Optimal\n",
      "Bread = 2.0\n",
      "Graham_cracker = 0.0\n",
      "Juice = 1.0\n",
      "Milk = 1.0\n",
      "Peanut_butter = 0.0\n",
      "Strawberry_jelly = 0.0\n",
      "Total Cost of Ingredients per meal =  60.0\n"
     ]
    }
   ],
   "source": [
    "\n",
    "\n",
    "# Create the 'prob' variable to contain the problem data\n",
    "prob = LpProblem(\"The Nutrition Problem\",LpMinimize)\n",
    "\n",
    "# The 6 variables are created with a lower limit of zero and integar type\n",
    "x1=LpVariable(\"Bread\",0,None,LpInteger)\n",
    "x2=LpVariable(\"Peanut butter\",0,None,LpInteger)\n",
    "x3=LpVariable(\"Strawberry jelly\",0,None,LpInteger)\n",
    "x4=LpVariable(\"Graham cracker\",0,None,LpInteger)\n",
    "x5=LpVariable(\"Milk\",0,None,LpInteger)\n",
    "x6=LpVariable(\"Juice\",0,None,LpInteger)\n",
    "# The objective function is added to 'prob' first\n",
    "prob += 5*x1 + 4*x2 + 7*x3 + 8*x4 + 15*x5 + 35*x6, \"Total Cost of Ingredients per meal\"\n",
    "\n",
    "# The five constraints are entered\n",
    "prob += 10*x1+75*x2+20*x4+70*x5 <= 21*x1+30*x2+15*x3+18*x4+45*x5+30*x6, \"FatRequirement\"\n",
    "prob += 3*x3+2*x5+120*x6 >= 60, \"VltaminCRequirement\"\n",
    "prob += 3*x1+4*x2+x4+8*x5+x6 >= 12, \"ProtienRequirement\"\n",
    "prob += x1 == 2, \"SandwichRequirement\"\n",
    "prob += x3 >= 2*x2, \"ButterRequirement\"\n",
    "prob += x5+x6 >= 1, \"LiquidRequirement\"\n",
    "\n",
    "# The problem data is written to an .lp file\n",
    "prob.writeLP(\"NutritionModel.lp\")\n",
    "\n",
    "# The problem is solved using PuLP's choice of Solver\n",
    "prob.solve()\n",
    "\n",
    "# The status of the solution is printed to the screen\n",
    "print (\"Status:\", LpStatus[prob.status])\n",
    "\n",
    "# Each of the variables is printed with it's resolved optimum value\n",
    "for v in prob.variables():\n",
    "    print( v.name, \"=\", v.varValue)\n",
    "    \n",
    "# The optimised objective function value is printed to the screen\n",
    "print (\"Total Cost of Ingredients per meal = \", value(prob.objective))\n"
   ]
  },
  {
   "cell_type": "code",
   "execution_count": null,
   "metadata": {},
   "outputs": [],
   "source": []
  }
 ],
 "metadata": {
  "kernelspec": {
   "display_name": "Python 3",
   "language": "python",
   "name": "python3"
  },
  "language_info": {
   "codemirror_mode": {
    "name": "ipython",
    "version": 3
   },
   "file_extension": ".py",
   "mimetype": "text/x-python",
   "name": "python",
   "nbconvert_exporter": "python",
   "pygments_lexer": "ipython3",
   "version": "3.7.6"
  }
 },
 "nbformat": 4,
 "nbformat_minor": 4
}
